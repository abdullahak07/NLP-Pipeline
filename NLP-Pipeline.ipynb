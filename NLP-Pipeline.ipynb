{
 "cells": [
  {
   "cell_type": "markdown",
   "id": "189fa5a8",
   "metadata": {},
   "source": [
    "# Text Representation: TF-IDF"
   ]
  },
  {
   "cell_type": "markdown",
   "id": "b5f71cb8",
   "metadata": {},
   "source": [
    "### Importing Libraries"
   ]
  },
  {
   "cell_type": "code",
   "execution_count": 188,
   "id": "8f6ee784",
   "metadata": {},
   "outputs": [],
   "source": [
    "import pandas as pd\n",
    "import numpy as np\n",
    "import unicodedata"
   ]
  },
  {
   "cell_type": "markdown",
   "id": "dc8824b3",
   "metadata": {},
   "source": [
    "### Importing dataset and dropping excessive coloumns"
   ]
  },
  {
   "cell_type": "code",
   "execution_count": 189,
   "id": "71c162f4",
   "metadata": {
    "scrolled": true
   },
   "outputs": [
    {
     "data": {
      "text/html": [
       "<div>\n",
       "<style scoped>\n",
       "    .dataframe tbody tr th:only-of-type {\n",
       "        vertical-align: middle;\n",
       "    }\n",
       "\n",
       "    .dataframe tbody tr th {\n",
       "        vertical-align: top;\n",
       "    }\n",
       "\n",
       "    .dataframe thead th {\n",
       "        text-align: right;\n",
       "    }\n",
       "</style>\n",
       "<table border=\"1\" class=\"dataframe\">\n",
       "  <thead>\n",
       "    <tr style=\"text-align: right;\">\n",
       "      <th></th>\n",
       "      <th>title</th>\n",
       "      <th>content</th>\n",
       "      <th>source</th>\n",
       "    </tr>\n",
       "  </thead>\n",
       "  <tbody>\n",
       "    <tr>\n",
       "      <th>0</th>\n",
       "      <td>BTS: RM is reminded of Bon Voyage as he travel...</td>\n",
       "      <td>After reaching his hotel in the city, RM revea...</td>\n",
       "      <td>2</td>\n",
       "    </tr>\n",
       "    <tr>\n",
       "      <th>1</th>\n",
       "      <td>RM recalls wondering if he 'made right decisio...</td>\n",
       "      <td>RM aka Kim Namjoon was the first member to joi...</td>\n",
       "      <td>2</td>\n",
       "    </tr>\n",
       "    <tr>\n",
       "      <th>2</th>\n",
       "      <td>BTS: J-Hope and RM go bonkers at Billie Eilish...</td>\n",
       "      <td>Billie Eilish's concert was held in Seoul, Sou...</td>\n",
       "      <td>1</td>\n",
       "    </tr>\n",
       "    <tr>\n",
       "      <th>3</th>\n",
       "      <td>BTS: J-Hope proudly states he raised Jungkook,...</td>\n",
       "      <td>BTS ARMY y'all would be missing the members a ...</td>\n",
       "      <td>1</td>\n",
       "    </tr>\n",
       "    <tr>\n",
       "      <th>4</th>\n",
       "      <td>BTS: Jin aka Kim Seokjin takes us through the ...</td>\n",
       "      <td>BTS member Kim Seokjin aka Jin has the capacit...</td>\n",
       "      <td>1</td>\n",
       "    </tr>\n",
       "  </tbody>\n",
       "</table>\n",
       "</div>"
      ],
      "text/plain": [
       "                                               title  \\\n",
       "0  BTS: RM is reminded of Bon Voyage as he travel...   \n",
       "1  RM recalls wondering if he 'made right decisio...   \n",
       "2  BTS: J-Hope and RM go bonkers at Billie Eilish...   \n",
       "3  BTS: J-Hope proudly states he raised Jungkook,...   \n",
       "4  BTS: Jin aka Kim Seokjin takes us through the ...   \n",
       "\n",
       "                                             content  source  \n",
       "0  After reaching his hotel in the city, RM revea...       2  \n",
       "1  RM aka Kim Namjoon was the first member to joi...       2  \n",
       "2  Billie Eilish's concert was held in Seoul, Sou...       1  \n",
       "3  BTS ARMY y'all would be missing the members a ...       1  \n",
       "4  BTS member Kim Seokjin aka Jin has the capacit...       1  "
      ]
     },
     "execution_count": 189,
     "metadata": {},
     "output_type": "execute_result"
    }
   ],
   "source": [
    "from sklearn.feature_extraction.text import TfidfVectorizer\n",
    "\n",
    "df = pd.read_csv(\"news.csv\")\n",
    "# Drop the 'published_at' and 'topic' columns\n",
    "df.drop(columns=['published_at', 'topic'], inplace=True)\n",
    "df.head()"
   ]
  },
  {
   "cell_type": "markdown",
   "id": "03e08dac",
   "metadata": {},
   "source": [
    "### Checking the dimensions of your input variables and remove any rows with missing values or NaN values"
   ]
  },
  {
   "cell_type": "code",
   "execution_count": 190,
   "id": "5988d545",
   "metadata": {},
   "outputs": [
    {
     "name": "stdout",
     "output_type": "stream",
     "text": [
      "(810, 5)\n",
      "(806, 5)\n",
      "(806, 5)\n"
     ]
    }
   ],
   "source": [
    "# Load the data into a dataframe\n",
    "df = pd.read_csv(\"news.csv\")\n",
    "\n",
    "# Check the dimensions of the dataframe\n",
    "print(df.shape)\n",
    "\n",
    "# Remove any rows with missing or NaN values\n",
    "df = df.dropna()\n",
    "\n",
    "# Check the dimensions of the dataframe again\n",
    "print(df.shape)\n",
    "\n",
    "# Check for duplication and remove them\n",
    "df = df.drop_duplicates()\n",
    "\n",
    "# Check the dimensions of the dataframe again\n",
    "print(df.shape)\n"
   ]
  },
  {
   "cell_type": "markdown",
   "id": "4d9f0570",
   "metadata": {},
   "source": [
    "### Using fillna() function to fill the missing values with mean, median or mode of the dataset."
   ]
  },
  {
   "cell_type": "code",
   "execution_count": 191,
   "id": "5fb13bb2",
   "metadata": {},
   "outputs": [
    {
     "name": "stderr",
     "output_type": "stream",
     "text": [
      "C:\\Users\\Badman\\AppData\\Local\\Temp\\ipykernel_10304\\1810546410.py:1: FutureWarning: Dropping of nuisance columns in DataFrame reductions (with 'numeric_only=None') is deprecated; in a future version this will raise TypeError.  Select only valid columns before calling the reduction.\n",
      "  df = df.fillna(df.mean()) # fill missing values with mean\n",
      "C:\\Users\\Badman\\AppData\\Local\\Temp\\ipykernel_10304\\1810546410.py:2: FutureWarning: Dropping of nuisance columns in DataFrame reductions (with 'numeric_only=None') is deprecated; in a future version this will raise TypeError.  Select only valid columns before calling the reduction.\n",
      "  df = df.fillna(df.median()) # fill missing values with median\n"
     ]
    }
   ],
   "source": [
    "df = df.fillna(df.mean()) # fill missing values with mean\n",
    "df = df.fillna(df.median()) # fill missing values with median\n",
    "df = df.fillna(df.mode().iloc[0]) # fill missing values with mode\n"
   ]
  },
  {
   "cell_type": "markdown",
   "id": "c015852a",
   "metadata": {},
   "source": [
    "### Train Test Split\n",
    "### Build a model with original text (no pre processing)\n"
   ]
  },
  {
   "cell_type": "code",
   "execution_count": 252,
   "id": "aaf2e462",
   "metadata": {},
   "outputs": [],
   "source": [
    "from sklearn.model_selection import train_test_split\n",
    "\n",
    "X_train, X_test, y_train, y_test = train_test_split(\n",
    "    df.content, \n",
    "    df.source, \n",
    "    test_size=0.1, # 20% samples will go to test dataset\n",
    "    random_state=2022,\n",
    "    stratify=df.source\n",
    ")"
   ]
  },
  {
   "cell_type": "markdown",
   "id": "17751b0b",
   "metadata": {},
   "source": [
    "### Chcking  shape of Train and Test"
   ]
  },
  {
   "cell_type": "code",
   "execution_count": 234,
   "id": "72a7bdcd",
   "metadata": {},
   "outputs": [
    {
     "name": "stdout",
     "output_type": "stream",
     "text": [
      "Shape of X_train:  (725,)\n",
      "Shape of X_test:  (81,)\n"
     ]
    }
   ],
   "source": [
    "print(\"Shape of X_train: \", X_train.shape)\n",
    "print(\"Shape of X_test: \", X_test.shape)"
   ]
  },
  {
   "cell_type": "code",
   "execution_count": 235,
   "id": "fa414884",
   "metadata": {},
   "outputs": [
    {
     "data": {
      "text/plain": [
       "440    BTS: Kim Seokjin aka Jin makes a promise, Jung...\n",
       "315    BTS' V becomes fastest person to reach 40 mill...\n",
       "227    BTS' V is back on social media after long brea...\n",
       "21     Happy Birthday Jungkook: BTS' V wishes 'maknae...\n",
       "111    BTS hint of world tour in 2022 with 'blinks', ...\n",
       "Name: title, dtype: object"
      ]
     },
     "execution_count": 235,
     "metadata": {},
     "output_type": "execute_result"
    }
   ],
   "source": [
    "X_train.head()"
   ]
  },
  {
   "cell_type": "code",
   "execution_count": 236,
   "id": "58bac430",
   "metadata": {},
   "outputs": [
    {
     "data": {
      "text/plain": [
       "2    262\n",
       "1    255\n",
       "3    208\n",
       "Name: source, dtype: int64"
      ]
     },
     "execution_count": 236,
     "metadata": {},
     "output_type": "execute_result"
    }
   ],
   "source": [
    "y_train.value_counts()"
   ]
  },
  {
   "cell_type": "code",
   "execution_count": 237,
   "id": "4a72e15b",
   "metadata": {},
   "outputs": [
    {
     "data": {
      "text/plain": [
       "1    29\n",
       "2    29\n",
       "3    23\n",
       "Name: source, dtype: int64"
      ]
     },
     "execution_count": 237,
     "metadata": {},
     "output_type": "execute_result"
    }
   ],
   "source": [
    "y_test.value_counts()"
   ]
  },
  {
   "cell_type": "markdown",
   "id": "c89ff4cc",
   "metadata": {},
   "source": [
    "### Attempt 1 : using sklearn pipeline module create a classification pipeline to classify the News Data.\n",
    "\n",
    "Note:\n",
    "\n",
    "    use TF-IDF for pre-processing the text.\n",
    "\n",
    "    use KNN as the classifier\n",
    "\n",
    "    print the classification report.\n",
    "\n"
   ]
  },
  {
   "cell_type": "code",
   "execution_count": 238,
   "id": "61f4e928",
   "metadata": {},
   "outputs": [
    {
     "name": "stdout",
     "output_type": "stream",
     "text": [
      "              precision    recall  f1-score   support\n",
      "\n",
      "           1       0.77      0.69      0.73        29\n",
      "           2       0.68      0.79      0.73        29\n",
      "           3       0.76      0.70      0.73        23\n",
      "\n",
      "    accuracy                           0.73        81\n",
      "   macro avg       0.74      0.73      0.73        81\n",
      "weighted avg       0.73      0.73      0.73        81\n",
      "\n"
     ]
    },
    {
     "name": "stderr",
     "output_type": "stream",
     "text": [
      "C:\\Users\\Badman\\anaconda3\\lib\\site-packages\\sklearn\\neighbors\\_classification.py:228: FutureWarning: Unlike other reduction functions (e.g. `skew`, `kurtosis`), the default behavior of `mode` typically preserves the axis it acts along. In SciPy 1.11.0, this behavior will change: the default value of `keepdims` will become False, the `axis` over which the statistic is taken will be eliminated, and the value None will no longer be accepted. Set `keepdims` to True or False to avoid this warning.\n",
      "  mode, _ = stats.mode(_y[neigh_ind, k], axis=1)\n"
     ]
    }
   ],
   "source": [
    "from sklearn.neighbors import KNeighborsClassifier\n",
    "from sklearn.pipeline import Pipeline\n",
    "from sklearn.metrics import classification_report\n",
    "\n",
    "#1. create a pipeline object\n",
    "clf = Pipeline([\n",
    "     ('vectorizer_tfidf',TfidfVectorizer()),    \n",
    "     ('KNN', KNeighborsClassifier())         \n",
    "])\n",
    "\n",
    "#2. fit with X_train and y_train\n",
    "clf.fit(X_train, y_train)\n",
    "\n",
    "\n",
    "#3. get the predictions for X_test and store it in y_pred\n",
    "y_pred = clf.predict(X_test)\n",
    "\n",
    "\n",
    "#4. print the classfication report\n",
    "print(classification_report(y_test, y_pred))"
   ]
  },
  {
   "cell_type": "code",
   "execution_count": 239,
   "id": "c7628cfe",
   "metadata": {},
   "outputs": [
    {
     "data": {
      "text/plain": [
       "458    BTS’ Jimin, BLACKPINK’s Lisa and more: Top 10 ...\n",
       "674    BTS: Tejasswi Prakash is Bangtan Boys' fan, sh...\n",
       "372    Watch: HallyuTalk REACTS to BTS’ J-Hope’s vira...\n",
       "767    BTS: Jungkook drops vampire-ish picture; ARMY ...\n",
       "355    BTS: Delhi Airport tweets lyrics of band's son...\n",
       "Name: title, dtype: object"
      ]
     },
     "execution_count": 239,
     "metadata": {},
     "output_type": "execute_result"
    }
   ],
   "source": [
    "X_test[:5]"
   ]
  },
  {
   "cell_type": "code",
   "execution_count": 240,
   "id": "d73f9c43",
   "metadata": {},
   "outputs": [
    {
     "data": {
      "text/plain": [
       "458    3\n",
       "674    1\n",
       "372    3\n",
       "767    1\n",
       "355    2\n",
       "Name: source, dtype: int64"
      ]
     },
     "execution_count": 240,
     "metadata": {},
     "output_type": "execute_result"
    }
   ],
   "source": [
    "y_test[:5]"
   ]
  },
  {
   "cell_type": "code",
   "execution_count": 241,
   "id": "bd554e00",
   "metadata": {},
   "outputs": [
    {
     "data": {
      "text/plain": [
       "array([3, 2, 2, 1, 2], dtype=int64)"
      ]
     },
     "execution_count": 241,
     "metadata": {},
     "output_type": "execute_result"
    }
   ],
   "source": [
    "y_pred[:5]"
   ]
  },
  {
   "cell_type": "markdown",
   "id": "009f02b9",
   "metadata": {},
   "source": [
    "### Attempt 2 :  using sklearn pipeline module create a classification pipeline to classify the News Data.\n",
    "\n",
    "# Note:\n",
    "\n",
    "    use TF-IDF for pre-processing the text.\n",
    "\n",
    "    use MultinomialNB as the classifier.\n",
    "\n",
    "    print the classification report.\n",
    "\n"
   ]
  },
  {
   "cell_type": "code",
   "execution_count": 242,
   "id": "5d74dbb0",
   "metadata": {},
   "outputs": [
    {
     "name": "stdout",
     "output_type": "stream",
     "text": [
      "              precision    recall  f1-score   support\n",
      "\n",
      "           1       0.73      0.83      0.77        29\n",
      "           2       0.64      0.72      0.68        29\n",
      "           3       0.80      0.52      0.63        23\n",
      "\n",
      "    accuracy                           0.70        81\n",
      "   macro avg       0.72      0.69      0.69        81\n",
      "weighted avg       0.72      0.70      0.70        81\n",
      "\n"
     ]
    }
   ],
   "source": [
    "from sklearn.naive_bayes import MultinomialNB\n",
    "\n",
    "\n",
    "#1. create a pipeline object\n",
    "clf = Pipeline([\n",
    "     ('vectorizer_tfidf',TfidfVectorizer()),    \n",
    "     ('Multi NB', MultinomialNB())         \n",
    "])\n",
    "\n",
    "#2. fit with X_train and y_train\n",
    "clf.fit(X_train, y_train)\n",
    "\n",
    "\n",
    "#3. get the predictions for X_test and store it in y_pred\n",
    "y_pred = clf.predict(X_test)\n",
    "\n",
    "\n",
    "#4. print the classfication report\n",
    "print(classification_report(y_test, y_pred))"
   ]
  },
  {
   "cell_type": "markdown",
   "id": "9fea3af8",
   "metadata": {},
   "source": [
    "###  Attempt 3 : using sklearn pipeline module create a classification pipeline to classify the News Data.\n",
    "\n",
    "# Note:\n",
    "\n",
    "    use TF-IDF for pre-processing the text.\n",
    "\n",
    "    use Random Forest as the classifier.\n",
    "\n",
    "    print the classification report.\n",
    "\n"
   ]
  },
  {
   "cell_type": "code",
   "execution_count": 243,
   "id": "d213cdae",
   "metadata": {},
   "outputs": [
    {
     "name": "stdout",
     "output_type": "stream",
     "text": [
      "              precision    recall  f1-score   support\n",
      "\n",
      "           1       0.88      0.76      0.81        29\n",
      "           2       0.68      0.86      0.76        29\n",
      "           3       0.79      0.65      0.71        23\n",
      "\n",
      "    accuracy                           0.77        81\n",
      "   macro avg       0.78      0.76      0.76        81\n",
      "weighted avg       0.78      0.77      0.77        81\n",
      "\n"
     ]
    }
   ],
   "source": [
    "from sklearn.ensemble import RandomForestClassifier\n",
    "\n",
    "#1. create a pipeline object\n",
    "clf = Pipeline([\n",
    "     ('vectorizer_tfidf',TfidfVectorizer()),        #using the ngram_range parameter \n",
    "     ('Random Forest', RandomForestClassifier())         \n",
    "])\n",
    "\n",
    "#2. fit with X_train and y_train\n",
    "clf.fit(X_train, y_train)\n",
    "\n",
    "\n",
    "#3. get the predictions for X_test and store it in y_pred\n",
    "y_pred = clf.predict(X_test)\n",
    "\n",
    "\n",
    "#4. print the classfication report\n",
    "print(classification_report(y_test, y_pred))\n",
    "\n"
   ]
  },
  {
   "cell_type": "markdown",
   "id": "19a5cdd5",
   "metadata": {},
   "source": [
    "### Use text pre-processing to remove stop words, punctuations and apply lemmatization "
   ]
  },
  {
   "cell_type": "code",
   "execution_count": 244,
   "id": "52e4ebb2",
   "metadata": {},
   "outputs": [],
   "source": [
    "def preprocess(text):\n",
    "    removed_tokens = []\n",
    "    # remove stop words and lemmatize the text\n",
    "    doc = nlp(text)\n",
    "    filtered_tokens = []\n",
    "    for token in doc:\n",
    "        if token.is_stop or token.is_punct:\n",
    "            removed_tokens.append(token)\n",
    "            continue\n",
    "        filtered_tokens.append(token.lemma_)\n",
    "    \n",
    "    return \" \".join(filtered_tokens), removed_tokens\n",
    "\n",
    "\n"
   ]
  },
  {
   "cell_type": "code",
   "execution_count": 245,
   "id": "3c7d4d22",
   "metadata": {},
   "outputs": [],
   "source": [
    "df['Original_Content'] = df['content']\n",
    "df['New_Content'] = df['content'].apply(lambda x: preprocess(x)[0])\n",
    "df['Removed_Words'] = df['content'].apply(lambda x: preprocess(x)[1])"
   ]
  },
  {
   "cell_type": "code",
   "execution_count": 246,
   "id": "9de6c1b9",
   "metadata": {},
   "outputs": [
    {
     "data": {
      "text/html": [
       "<div>\n",
       "<style scoped>\n",
       "    .dataframe tbody tr th:only-of-type {\n",
       "        vertical-align: middle;\n",
       "    }\n",
       "\n",
       "    .dataframe tbody tr th {\n",
       "        vertical-align: top;\n",
       "    }\n",
       "\n",
       "    .dataframe thead th {\n",
       "        text-align: right;\n",
       "    }\n",
       "</style>\n",
       "<table border=\"1\" class=\"dataframe\">\n",
       "  <thead>\n",
       "    <tr style=\"text-align: right;\">\n",
       "      <th></th>\n",
       "      <th>Original_Content</th>\n",
       "      <th>New_Content</th>\n",
       "      <th>Removed_Words</th>\n",
       "    </tr>\n",
       "  </thead>\n",
       "  <tbody>\n",
       "    <tr>\n",
       "      <th>0</th>\n",
       "      <td>After reaching his hotel in the city, RM revea...</td>\n",
       "      <td>reach hotel city RM reveal stay day add step d...</td>\n",
       "      <td>[After, his, in, the, ,, that, his, would, be,...</td>\n",
       "    </tr>\n",
       "    <tr>\n",
       "      <th>1</th>\n",
       "      <td>RM aka Kim Namjoon was the first member to joi...</td>\n",
       "      <td>RM aka Kim Namjoon member join BTS group relea...</td>\n",
       "      <td>[was, the, first, to, ., The, their, on, ,, .,...</td>\n",
       "    </tr>\n",
       "    <tr>\n",
       "      <th>2</th>\n",
       "      <td>Billie Eilish's concert was held in Seoul, Sou...</td>\n",
       "      <td>Billie Eilish concert hold Seoul South Korea a...</td>\n",
       "      <td>['s, was, in, ,, and, it, was, by, ', and, -, ...</td>\n",
       "    </tr>\n",
       "    <tr>\n",
       "      <th>3</th>\n",
       "      <td>BTS ARMY y'all would be missing the members a ...</td>\n",
       "      <td>BTS ARMY you miss member lot right BTS member ...</td>\n",
       "      <td>[all, would, be, the, a, ,, ?, Well, ,, one, o...</td>\n",
       "    </tr>\n",
       "    <tr>\n",
       "      <th>4</th>\n",
       "      <td>BTS member Kim Seokjin aka Jin has the capacit...</td>\n",
       "      <td>bts member Kim Seokjin aka Jin capacity create...</td>\n",
       "      <td>[has, the, to, ., This, has, through, so, in, ...</td>\n",
       "    </tr>\n",
       "  </tbody>\n",
       "</table>\n",
       "</div>"
      ],
      "text/plain": [
       "                                    Original_Content  \\\n",
       "0  After reaching his hotel in the city, RM revea...   \n",
       "1  RM aka Kim Namjoon was the first member to joi...   \n",
       "2  Billie Eilish's concert was held in Seoul, Sou...   \n",
       "3  BTS ARMY y'all would be missing the members a ...   \n",
       "4  BTS member Kim Seokjin aka Jin has the capacit...   \n",
       "\n",
       "                                         New_Content  \\\n",
       "0  reach hotel city RM reveal stay day add step d...   \n",
       "1  RM aka Kim Namjoon member join BTS group relea...   \n",
       "2  Billie Eilish concert hold Seoul South Korea a...   \n",
       "3  BTS ARMY you miss member lot right BTS member ...   \n",
       "4  bts member Kim Seokjin aka Jin capacity create...   \n",
       "\n",
       "                                       Removed_Words  \n",
       "0  [After, his, in, the, ,, that, his, would, be,...  \n",
       "1  [was, the, first, to, ., The, their, on, ,, .,...  \n",
       "2  ['s, was, in, ,, and, it, was, by, ', and, -, ...  \n",
       "3  [all, would, be, the, a, ,, ?, Well, ,, one, o...  \n",
       "4  [has, the, to, ., This, has, through, so, in, ...  "
      ]
     },
     "execution_count": 246,
     "metadata": {},
     "output_type": "execute_result"
    }
   ],
   "source": [
    "df[['Original_Content', 'New_Content','Removed_Words']].head()"
   ]
  },
  {
   "cell_type": "code",
   "execution_count": 247,
   "id": "21d89802",
   "metadata": {},
   "outputs": [
    {
     "data": {
      "text/plain": [
       "'After reaching his hotel in the city, RM revealed that his stay would be for four days and added that he would step out for dinner. As he sat at a roadside open-air restaurant, RM feasted on beer, burgers and fries. He said, \"I\\'m starving right now. I\\'m out to grab some food. It\\'s much quieter than I expected and feels like a rural town. I like the familiar atmosphere.\" RM attended Art Basel and explained on camera the details of the art fair. He also gave a glimpse as he had noodles and beer which was followed by soup noodles and wrap. Showing the pattern of a ping pong table, RM said, \"The table looks like our (BTS) symbol.\" He also spoke about the art pieces as he viewed them. After that, RM took a tram to visit the Foundation Beyeler, a museum. He later took a walk through the city. On his third day, RM visited the Kunstmuseum Basel, the Vitra Design Museum and the gallery. As he walked around, RM showed a chair to his fans and said, \"I have breaking news for you guys. Coldplay\\'s Chris Martin made a chair and it\\'s displayed in the Vitra Design Museum. If you see this Chris, give me a call. You\\'re amazing.\" RM next visited Lucerne and hiked to Mount Rigi. Recalling his previous visit to Lucerne, RM added, \"I remember the day of crossing that bridge and buying souvenirs.\" He was also reminded of Bon Voyage, a reality show featuring BTS members RM, Jin, Suga, J-Hope, Jimin, V and Jungkook. Speaking to the camera, RM said, \"I rode the SSB train to Lucerne, rode a boat, rode the mountain train, walked down the track road, rode the cable cars, and now I\\'m on a boat planning to go ride the SSB again.\" RM\\'s travel in Switzerland ended with a visit to the Museum Tinguely. Next, RM flew to Paris to attend the Pinault Collection and to visit Musee d\\'Orsay. He then went to Centre Georges-Pompidou and Orsay Museum. RM\\'s vlog ended with him enjoying a Korean meal and then heading back to Seoul.'"
      ]
     },
     "execution_count": 247,
     "metadata": {},
     "output_type": "execute_result"
    }
   ],
   "source": [
    "df.content[0]"
   ]
  },
  {
   "cell_type": "code",
   "execution_count": 248,
   "id": "8b90621a",
   "metadata": {},
   "outputs": [
    {
     "data": {
      "text/plain": [
       "\"reach hotel city RM reveal stay day add step dinner sit roadside open air restaurant RM feast beer burger fry say starve right grab food quieter expect feel like rural town like familiar atmosphere RM attend Art Basel explain camera detail art fair give glimpse noodle beer follow soup noodle wrap show pattern ping pong table RM say table look like BTS symbol speak art piece view RM take tram visit Foundation Beyeler museum later take walk city day RM visit Kunstmuseum Basel Vitra Design Museum gallery walk RM show chair fan say break news guy Coldplay Chris Martin chair display Vitra Design Museum Chris amazing RM visit Lucerne hike Mount Rigi recall previous visit Lucerne RM add remember day cross bridge buying souvenir remind Bon Voyage reality feature BTS member RM Jin Suga J Hope Jimin V Jungkook speak camera RM say ride SSB train Lucerne ride boat ride mountain train walk track road ride cable car boat plan ride SSB RM travel Switzerland end visit Museum Tinguely RM fly Paris attend Pinault Collection visit Musee d'Orsay go Centre Georges Pompidou Orsay Museum RM vlog end enjoy korean meal head Seoul\""
      ]
     },
     "execution_count": 248,
     "metadata": {},
     "output_type": "execute_result"
    }
   ],
   "source": [
    "df.New_Content[0]"
   ]
  },
  {
   "cell_type": "markdown",
   "id": "1b61ee82",
   "metadata": {},
   "source": [
    "### Build a model with pre processed text"
   ]
  },
  {
   "cell_type": "code",
   "execution_count": 249,
   "id": "2671d443",
   "metadata": {},
   "outputs": [],
   "source": [
    "X_train, X_test, y_train, y_test = train_test_split(\n",
    "    df.New_Content, \n",
    "    df.content,\n",
    "    test_size=0.10, # 20% samples will go to test dataset\n",
    "    random_state=2022,\n",
    "    stratify=df.source\n",
    ")"
   ]
  },
  {
   "cell_type": "markdown",
   "id": "1a8e27b5",
   "metadata": {},
   "source": [
    "### Let's check the scores with our best model till now\n",
    "\n",
    "    Random Forest\n",
    "\n"
   ]
  },
  {
   "cell_type": "code",
   "execution_count": 253,
   "id": "fcd2bd0b",
   "metadata": {},
   "outputs": [
    {
     "name": "stdout",
     "output_type": "stream",
     "text": [
      "              precision    recall  f1-score   support\n",
      "\n",
      "           1       0.94      1.00      0.97        29\n",
      "           2       0.93      0.97      0.95        29\n",
      "           3       1.00      0.87      0.93        23\n",
      "\n",
      "    accuracy                           0.95        81\n",
      "   macro avg       0.96      0.95      0.95        81\n",
      "weighted avg       0.95      0.95      0.95        81\n",
      "\n"
     ]
    }
   ],
   "source": [
    "#1. create a pipeline object\n",
    "clf = Pipeline([\n",
    "     ('vectorizer_tfidf',TfidfVectorizer()),        #using the ngram_range parameter \n",
    "     ('Random Forest', RandomForestClassifier())         \n",
    "])\n",
    "\n",
    "#2. fit with X_train and y_train\n",
    "clf.fit(X_train, y_train)\n",
    "\n",
    "\n",
    "#3. get the predictions for X_test and store it in y_pred\n",
    "y_pred = clf.predict(X_test)\n",
    "\n",
    "\n",
    "#4. print the classfication report\n",
    "print(classification_report(y_test, y_pred))"
   ]
  },
  {
   "cell_type": "markdown",
   "id": "12efe8b1",
   "metadata": {},
   "source": [
    "**Comparing the classification report for the RandomForest model using preprocessed text to the one using unprocessed text, we can see an improvement in the F1 score. This suggests that preprocessing techniques such as removing stop words and lemmatization can improve the performance of the model for this specific problem.**"
   ]
  },
  {
   "cell_type": "markdown",
   "id": "f5d29a3f",
   "metadata": {},
   "source": [
    "### Plot confusion matrix"
   ]
  },
  {
   "cell_type": "code",
   "execution_count": 254,
   "id": "e3c38a82",
   "metadata": {},
   "outputs": [
    {
     "data": {
      "text/plain": [
       "array([[29,  0,  0],\n",
       "       [ 1, 28,  0],\n",
       "       [ 1,  2, 20]], dtype=int64)"
      ]
     },
     "execution_count": 254,
     "metadata": {},
     "output_type": "execute_result"
    }
   ],
   "source": [
    "from sklearn.metrics import confusion_matrix\n",
    "cm = confusion_matrix(y_test, y_pred)\n",
    "cm"
   ]
  },
  {
   "cell_type": "code",
   "execution_count": 255,
   "id": "bd8a7cb7",
   "metadata": {},
   "outputs": [
    {
     "data": {
      "text/plain": [
       "Text(95.72222222222221, 0.5, 'Truth')"
      ]
     },
     "execution_count": 255,
     "metadata": {},
     "output_type": "execute_result"
    },
    {
     "data": {
      "image/png": "[encoded data removed]",
      "text/plain": [
       "<Figure size 1000x700 with 2 Axes>"
      ]
     },
     "metadata": {},
     "output_type": "display_data"
    }
   ],
   "source": [
    "from matplotlib import pyplot as plt\n",
    "import seaborn as sn\n",
    "plt.figure(figsize = (10,7))\n",
    "sn.heatmap(cm, annot=True, fmt='d')\n",
    "plt.xlabel('Prediction')\n",
    "plt.ylabel('Truth')"
   ]
  },
  {
   "cell_type": "code",
   "execution_count": null,
   "id": "3eff8910",
   "metadata": {},
   "outputs": [],
   "source": []
  }
 ],
 "metadata": {
  "kernelspec": {
   "display_name": "Python 3 (ipykernel)",
   "language": "python",
   "name": "python3"
  },
  "language_info": {
   "codemirror_mode": {
    "name": "ipython",
    "version": 3
   },
   "file_extension": ".py",
   "mimetype": "text/x-python",
   "name": "python",
   "nbconvert_exporter": "python",
   "pygments_lexer": "ipython3",
   "version": "3.9.13"
  }
 },
 "nbformat": 4,
 "nbformat_minor": 5
}
